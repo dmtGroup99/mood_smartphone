{
 "cells": [
  {
   "cell_type": "markdown",
   "metadata": {},
   "source": [
    "# Settings"
   ]
  },
  {
   "cell_type": "code",
   "execution_count": 4,
   "metadata": {
    "collapsed": true
   },
   "outputs": [],
   "source": [
    "import pandas as pd\n",
    "import numpy as np\n",
    "import math\n",
    "\n",
    "from sklearn.model_selection import GridSearchCV, cross_val_score\n",
    "from sklearn.preprocessing import MinMaxScaler\n",
    "\n",
    "from matplotlib import pyplot\n",
    "%matplotlib inline"
   ]
  },
  {
   "cell_type": "markdown",
   "metadata": {},
   "source": [
    "# Read dataset"
   ]
  },
  {
   "cell_type": "code",
   "execution_count": 2,
   "metadata": {
    "collapsed": true
   },
   "outputs": [],
   "source": [
    "df = pd.read_csv('../RNN_data_version1.csv')\n",
    "df = df.drop(df.columns[0], axis=1)"
   ]
  },
  {
   "cell_type": "code",
   "execution_count": null,
   "metadata": {
    "collapsed": true
   },
   "outputs": [],
   "source": [
    "df.head(20)"
   ]
  },
  {
   "cell_type": "code",
   "execution_count": null,
   "metadata": {
    "collapsed": true
   },
   "outputs": [],
   "source": [
    "df.shape"
   ]
  },
  {
   "cell_type": "markdown",
   "metadata": {},
   "source": [
    "# Make data ready for input"
   ]
  },
  {
   "cell_type": "markdown",
   "metadata": {},
   "source": [
    "This data has 1181 samples with for every sample 5 timesteps. Every timestep has 19 different numerical features.\n",
    "\n",
    "Use normalisation of range (0,1) to counter for vanishing gradient problem and other advantages."
   ]
  },
  {
   "cell_type": "code",
   "execution_count": 5,
   "metadata": {},
   "outputs": [
    {
     "name": "stdout",
     "output_type": "stream",
     "text": [
      "(933, 5, 19) (933,) (248, 5, 19) (248,)\n"
     ]
    }
   ],
   "source": [
    "# Split into train and test set\n",
    "dataset = df.iloc[:,:].values\n",
    "rand_split = np.random.rand(len(dataset))\n",
    "train_list = rand_split < 0.8\n",
    "#val_list = (rand_split >= 0.8) & (rand_split < 0.9)\n",
    "test_list = rand_split >= 0.8\n",
    "\n",
    "train = dataset[train_list]\n",
    "\n",
    "# normalize features\n",
    "scaler = MinMaxScaler()\n",
    "train = scaler.fit_transform(train)\n",
    "\n",
    "test = dataset[test_list]\n",
    "\n",
    "# split into input and output\n",
    "train_X, train_y = train[:,:-1], train[:,-1]\n",
    "test_X, test_y = test[:,:-1], test[:,-1]\n",
    "\n",
    "# reshape input to be 3D [samples, timesteps, features]\n",
    "train_X = train_X.reshape((train_X.shape[0], 5, 19))\n",
    "test_X = test_X.reshape((test_X.shape[0], 5, 19))\n",
    "print(train_X.shape, train_y.shape, test_X.shape, test_y.shape)"
   ]
  },
  {
   "cell_type": "code",
   "execution_count": 22,
   "metadata": {},
   "outputs": [
    {
     "data": {
      "text/plain": [
       "36.0"
      ]
     },
     "execution_count": 22,
     "metadata": {},
     "output_type": "execute_result"
    }
   ],
   "source": [
    "np.square(scaler.data_max_[95] - scaler.data_min_[95])"
   ]
  },
  {
   "cell_type": "markdown",
   "metadata": {},
   "source": [
    "# Train model"
   ]
  },
  {
   "cell_type": "markdown",
   "metadata": {},
   "source": [
    "Many-to-one LSTM recurrent neural network with 32 neurons, dropout of 20% for regularization and adam optimizer."
   ]
  },
  {
   "cell_type": "markdown",
   "metadata": {},
   "source": [
    "### Long Short-Term Memory (LSTM) network\n",
    "\n",
    "This following figure shows the operations of an LSTM-cell.\n",
    "\n",
    "<img src=\"images/lstm.png\" style=\"width:700px;height:300px;\">"
   ]
  },
  {
   "cell_type": "markdown",
   "metadata": {},
   "source": [
    "### Nested k-fold cross-validation\n",
    "\n",
    "This is done to evaluate between different models."
   ]
  },
  {
   "cell_type": "code",
   "execution_count": 8,
   "metadata": {},
   "outputs": [
    {
     "name": "stderr",
     "output_type": "stream",
     "text": [
      "[Parallel(n_jobs=1)]: Done   3 out of   3 | elapsed: 43.8min finished\n"
     ]
    }
   ],
   "source": [
    "# function to create model for kerasClassifier\n",
    "def create_model(dropout_rate, neurons):\n",
    "    from keras.models import Sequential\n",
    "    from keras.layers import Reshape\n",
    "    from keras.layers import Dense\n",
    "    from keras.layers import LSTM\n",
    "    from keras.layers import Dropout\n",
    "    model = Sequential()\n",
    "    #model.add(Reshape((5,19), input_shape=(95,)))\n",
    "    model.add(LSTM(units=neurons, input_shape=(5, 19), dropout=dropout_rate))\n",
    "    model.add(Dense(1))\n",
    "    model.compile(loss='mse', optimizer='adam', metrics=['mse'])\n",
    "    return model\n",
    "\n",
    "# create model\n",
    "def train_model():\n",
    "    from keras.wrappers.scikit_learn import KerasRegressor\n",
    "    model = KerasRegressor(build_fn=create_model, verbose=0)\n",
    "    \n",
    "    # define the grid search parameters\n",
    "    batch_size = [64]\n",
    "    epochs = [128, 256]\n",
    "    dropout_rate = [0.0, 0.2]\n",
    "    neurons = [32,64,128]\n",
    "    param_grid = dict(batch_size=batch_size, epochs=epochs, dropout_rate=dropout_rate, neurons=neurons)\n",
    "    grid = GridSearchCV(estimator=model, param_grid=param_grid, n_jobs=1)\n",
    "    grid_result = cross_val_score(grid, train_X, train_y, cv=3, verbose=1)\n",
    "    return grid_result\n",
    "    \n",
    "results = train_model()\n",
    "\n"
   ]
  },
  {
   "cell_type": "code",
   "execution_count": 47,
   "metadata": {
    "scrolled": true
   },
   "outputs": [
    {
     "name": "stdout",
     "output_type": "stream",
     "text": [
      "0.536661780089\n",
      "[ 0.70661271  0.37828904  0.5250836 ]\n"
     ]
    }
   ],
   "source": [
    "metrics = (np.absolute(results) * np.square(scaler.data_max_[95] - scaler.data_min_[95]))\n",
    "print(np.mean(metrics))\n",
    "print(metrics)"
   ]
  },
  {
   "cell_type": "code",
   "execution_count": null,
   "metadata": {
    "collapsed": true
   },
   "outputs": [],
   "source": [
    "pyplot.boxplot(metrics)"
   ]
  },
  {
   "cell_type": "markdown",
   "metadata": {},
   "source": [
    "### K-fold cross-validation\n",
    "\n",
    "Hyperparameter grid search tuning"
   ]
  },
  {
   "cell_type": "code",
   "execution_count": null,
   "metadata": {},
   "outputs": [],
   "source": [
    "# function to create model for kerasClassifier\n",
    "def create_model(dropout_rate, neurons):\n",
    "    from keras.models import Sequential\n",
    "    from keras.layers import Reshape\n",
    "    from keras.layers import Dense\n",
    "    from keras.layers import LSTM\n",
    "    from keras.layers import Dropout\n",
    "    model = Sequential()\n",
    "    #model.add(Reshape((5,19), input_shape=(95,)))\n",
    "    model.add(LSTM(units=neurons, input_shape=(5, 19), dropout=dropout_rate))\n",
    "    model.add(Dense(1))\n",
    "    model.compile(loss='mse', optimizer='adam', metrics=['mse'])\n",
    "    return model\n",
    "\n",
    "# create model\n",
    "def train_model():\n",
    "    from keras.wrappers.scikit_learn import KerasRegressor\n",
    "    model = KerasRegressor(build_fn=create_model, verbose=0)\n",
    "    \n",
    "    # define the grid search parameters\n",
    "    batch_size = [64]\n",
    "    epochs = [128, 256]\n",
    "    dropout_rate = [0.0, 0.2]\n",
    "    neurons = [32, 64, 128]\n",
    "    param_grid = dict(batch_size=batch_size, epochs=epochs, dropout_rate=dropout_rate, neurons=neurons)\n",
    "    grid = GridSearchCV(estimator=model, param_grid=param_grid, n_jobs=-1)\n",
    "    grid_result = grid.fit(train_X, train_y)\n",
    "    return grid_result\n",
    "    \n",
    "results = train_model()\n"
   ]
  },
  {
   "cell_type": "code",
   "execution_count": null,
   "metadata": {},
   "outputs": [],
   "source": [
    "print(\"Best: %f using %s\" % (results.best_score_, results.best_params_))\n",
    "means = results.cv_results_['mean_test_score']\n",
    "stds = results.cv_results_['std_test_score']\n",
    "params = results.cv_results_['params']\n",
    "for mean, stdev, param in zip(means, stds, params):\n",
    "\tprint(\"%f (%f) with: %r\" % (mean, stdev, param))"
   ]
  },
  {
   "cell_type": "code",
   "execution_count": null,
   "metadata": {},
   "outputs": [],
   "source": [
    "# design neural net\n",
    "from keras.models import Sequential\n",
    "from keras.layers import Dense\n",
    "from keras.layers import LSTM\n",
    "from keras.layers import Dropout\n",
    "model = Sequential()\n",
    "model.add(LSTM(128, input_shape=(5, 19), dropout=0.0))\n",
    "model.add(Dense(1))\n",
    "model.compile(loss='mse', optimizer='adam')\n",
    "\n",
    "# fit neural net\n",
    "history = model.fit(train_X, train_y, epochs=128, batch_size = 64, validation_split=0.2, verbose = 2, shuffle=True)"
   ]
  },
  {
   "cell_type": "code",
   "execution_count": null,
   "metadata": {},
   "outputs": [],
   "source": [
    "pyplot.plot(history.history['loss'], label='train')\n",
    "pyplot.plot(history.history['val_loss'], label='validation')\n",
    "pyplot.legend()\n",
    "pyplot.show()"
   ]
  },
  {
   "cell_type": "markdown",
   "metadata": {},
   "source": [
    "# Calculate and compare model accuracy"
   ]
  },
  {
   "cell_type": "code",
   "execution_count": 32,
   "metadata": {
    "collapsed": true
   },
   "outputs": [],
   "source": [
    "MAE = lambda p,o: sum(abs(p - o)) / len(o)\n",
    "RMSE = lambda p,o: (sum((p - o) ** 2) / len(o))"
   ]
  },
  {
   "cell_type": "code",
   "execution_count": 30,
   "metadata": {
    "collapsed": true
   },
   "outputs": [],
   "source": [
    "originals = df.iloc[:,92].values\n",
    "predictions = df.iloc[:,95].values"
   ]
  },
  {
   "cell_type": "markdown",
   "metadata": {},
   "source": [
    "## Baseline accuracy\n",
    "\n",
    "Baseline accuracy is calculated by predicting mood of t+1 with mood of time t. Both MAE and RMSE are showed."
   ]
  },
  {
   "cell_type": "code",
   "execution_count": 34,
   "metadata": {},
   "outputs": [
    {
     "name": "stdout",
     "output_type": "stream",
     "text": [
      "MAE: 0.550179943390397\n",
      "MSE: 0.5670021934142934\n"
     ]
    }
   ],
   "source": [
    "print('MAE: {}'.format(MAE(predictions, originals)))\n",
    "print('MSE: {}'.format(RMSE(predictions, originals)))"
   ]
  },
  {
   "cell_type": "markdown",
   "metadata": {},
   "source": [
    "Check how to statistically define a confidence interval for RMSE baseline value. Two approaches can be considered.\n",
    "\n",
    "- Use assumptions that predictions - originals are normal distributed\n",
    "\n",
    "\\begin{equation}\n",
    "H← ​​​60 ​+​ \\frac{​​30(B−R)​​}{Vmax−Vmin}  ​​, if V​max​​ = G\n",
    "\\end{equation}\n",
    "\n",
    "- Use bootstrap to estimate confidence interval of RMSE"
   ]
  },
  {
   "cell_type": "code",
   "execution_count": null,
   "metadata": {},
   "outputs": [],
   "source": [
    "x = (predictions - originals)\n",
    "np.mean(x)"
   ]
  },
  {
   "cell_type": "code",
   "execution_count": null,
   "metadata": {},
   "outputs": [],
   "source": [
    "import scipy.stats as stats\n",
    "stats.probplot(x, dist=\"norm\", plot=pyplot)\n",
    "pyplot.show()"
   ]
  },
  {
   "cell_type": "code",
   "execution_count": null,
   "metadata": {},
   "outputs": [],
   "source": [
    "pyplot.hist(x)"
   ]
  },
  {
   "cell_type": "markdown",
   "metadata": {},
   "source": [
    "## Model accuracy\n",
    "\n",
    "Prediction of values with model for test set and then scale values back."
   ]
  },
  {
   "cell_type": "code",
   "execution_count": null,
   "metadata": {
    "collapsed": true
   },
   "outputs": [],
   "source": [
    "#make predictions\n",
    "trainPredict = model.predict(train_X)\n",
    "testPredict = model.predict(test_X)\n",
    "\n",
    "inverse = np.concatenate((test_X.reshape((test_X.shape[0], 95)), testPredict), axis=1)\n",
    "inverse2 = scaler.inverse_transform(inverse)\n",
    "testPrediction = inverse2[:,-1]\n",
    "\n",
    "inverse = np.concatenate((test_X.reshape((test_X.shape[0], 95)), test_y.reshape((len(test_y), 1))), axis=1)\n",
    "inverse2 = scaler.inverse_transform(inverse)\n",
    "testY = inverse2[:,-1]\n",
    "\n",
    "#invert predictions\n",
    "#trainPredict = scaler.inverse_transform(trainPredict)\n",
    "#trainY = scaler.inverse_transform(train_y)\n",
    "#testPredict = scaler.inverse_transform(testPredict)\n",
    "#testY = scaler.inverse_transform(test_y)\n",
    "original = test_y[np.newaxis].T"
   ]
  },
  {
   "cell_type": "code",
   "execution_count": null,
   "metadata": {},
   "outputs": [],
   "source": [
    "print('MAE: {}'.format(MAE(testPrediction, testY)))\n",
    "print('MSE: {}'.format(RMSE(testPrediction, testY)))"
   ]
  },
  {
   "cell_type": "code",
   "execution_count": null,
   "metadata": {
    "collapsed": true
   },
   "outputs": [],
   "source": []
  }
 ],
 "metadata": {
  "kernelspec": {
   "display_name": "Python 3",
   "language": "python",
   "name": "python3"
  },
  "language_info": {
   "codemirror_mode": {
    "name": "ipython",
    "version": 3
   },
   "file_extension": ".py",
   "mimetype": "text/x-python",
   "name": "python",
   "nbconvert_exporter": "python",
   "pygments_lexer": "ipython3",
   "version": "3.6.3"
  }
 },
 "nbformat": 4,
 "nbformat_minor": 2
}
