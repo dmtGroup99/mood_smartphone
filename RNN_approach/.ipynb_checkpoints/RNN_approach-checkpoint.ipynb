{
 "cells": [
  {
   "cell_type": "markdown",
   "metadata": {},
   "source": [
    "# Settings"
   ]
  },
  {
   "cell_type": "code",
   "execution_count": 1,
   "metadata": {
    "collapsed": true
   },
   "outputs": [],
   "source": [
    "import pandas as pd\n",
    "import numpy as np\n",
    "import math\n",
    "\n",
    "from sklearn.model_selection import GridSearchCV\n",
    "#from keras.models import Sequential\n",
    "#from keras.layers import Reshape\n",
    "#from keras.layers import Dense\n",
    "#from keras.layers import LSTM\n",
    "#from keras.layers import Dropout\n",
    "#from keras.wrappers.scikit_learn import KerasRegressor\n",
    "from sklearn.preprocessing import MinMaxScaler\n",
    "\n",
    "from matplotlib import pyplot\n",
    "%matplotlib inline"
   ]
  },
  {
   "cell_type": "markdown",
   "metadata": {},
   "source": [
    "# Read dataset"
   ]
  },
  {
   "cell_type": "code",
   "execution_count": 2,
   "metadata": {
    "collapsed": true
   },
   "outputs": [],
   "source": [
    "df = pd.read_csv('../RNN_data_version1.csv')\n",
    "df = df.drop(df.columns[0], axis=1)"
   ]
  },
  {
   "cell_type": "code",
   "execution_count": null,
   "metadata": {
    "collapsed": true
   },
   "outputs": [],
   "source": [
    "df.head(20)"
   ]
  },
  {
   "cell_type": "code",
   "execution_count": null,
   "metadata": {
    "collapsed": true
   },
   "outputs": [],
   "source": [
    "df.shape"
   ]
  },
  {
   "cell_type": "markdown",
   "metadata": {},
   "source": [
    "# Make data ready for input"
   ]
  },
  {
   "cell_type": "markdown",
   "metadata": {},
   "source": [
    "This data has 1181 samples with for every sample 5 timesteps. Every timestep has 19 different numerical features.\n",
    "\n",
    "Use normalisation of range (0,1) to counter for vanishing gradient problem and other advantages."
   ]
  },
  {
   "cell_type": "code",
   "execution_count": 3,
   "metadata": {},
   "outputs": [
    {
     "name": "stdout",
     "output_type": "stream",
     "text": [
      "(955, 5, 19) (955,) (226, 5, 19) (226,)\n"
     ]
    }
   ],
   "source": [
    "# normalize features\n",
    "scaler = MinMaxScaler(feature_range=(0, 1))\n",
    "dataset = scaler.fit_transform(df)\n",
    "\n",
    "# Split into train and test set\n",
    "#dataset = df.iloc[:,:].values\n",
    "rand_split = np.random.rand(len(dataset))\n",
    "train_list = rand_split < 0.8\n",
    "#val_list = (rand_split >= 0.8) & (rand_split < 0.9)\n",
    "test_list = rand_split >= 0.8\n",
    "\n",
    "train = dataset[train_list]\n",
    "#data_val = dataset[val_list]\n",
    "test = dataset[test_list]\n",
    "\n",
    "# split into input and output\n",
    "train_X, train_y = train[:,:-1], train[:,-1]\n",
    "test_X, test_y = test[:,:-1], test[:,-1]\n",
    "\n",
    "# reshape input to be 3D [samples, timesteps, features]\n",
    "train_X = train_X.reshape((train_X.shape[0], 5, 19))\n",
    "test_X = test_X.reshape((test_X.shape[0], 5, 19))\n",
    "print(train_X.shape, train_y.shape, test_X.shape, test_y.shape)"
   ]
  },
  {
   "cell_type": "markdown",
   "metadata": {},
   "source": [
    "# Train model"
   ]
  },
  {
   "cell_type": "markdown",
   "metadata": {},
   "source": [
    "Many-to-one LSTM recurrent neural network with 32 neurons, dropout of 20% for regularization and adam optimizer."
   ]
  },
  {
   "cell_type": "markdown",
   "metadata": {},
   "source": [
    "### Long Short-Term Memory (LSTM) network\n",
    "\n",
    "This following figure shows the operations of an LSTM-cell.\n",
    "\n",
    "<img src=\"images/lstm.png\" style=\"width:700px;height:300px;\">"
   ]
  },
  {
   "cell_type": "code",
   "execution_count": 4,
   "metadata": {},
   "outputs": [
    {
     "name": "stderr",
     "output_type": "stream",
     "text": [
      "Using TensorFlow backend.\n"
     ]
    }
   ],
   "source": [
    "# function to create model for kerasClassifier\n",
    "def create_model(dropout_rate, neurons):\n",
    "    from keras.models import Sequential\n",
    "    from keras.layers import Reshape\n",
    "    from keras.layers import Dense\n",
    "    from keras.layers import LSTM\n",
    "    from keras.layers import Dropout\n",
    "    model = Sequential()\n",
    "    #model.add(Reshape((5,19), input_shape=(95,)))\n",
    "    model.add(LSTM(units=neurons, input_shape=(5, 19), dropout=dropout_rate))\n",
    "    model.add(Dense(1))\n",
    "    model.compile(loss='mse', optimizer='adam', metrics=['mse'])\n",
    "    return model\n",
    "\n",
    "# create model\n",
    "def train_model():\n",
    "    from keras.wrappers.scikit_learn import KerasRegressor\n",
    "    model = KerasRegressor(build_fn=create_model, verbose=0)\n",
    "    \n",
    "    # define the grid search parameters\n",
    "    batch_size = [64]\n",
    "    epochs = [128, 256]\n",
    "    dropout_rate = [0.0, 0.1, 0.2]\n",
    "    neurons = [64, 128, 256]\n",
    "    param_grid = dict(batch_size=batch_size, epochs=epochs, dropout_rate=dropout_rate, neurons=neurons)\n",
    "    grid = GridSearchCV(estimator=model, param_grid=param_grid, n_jobs=-1)\n",
    "    grid_result = grid.fit(train_X, train_y)\n",
    "    return grid_result\n",
    "    \n",
    "results = train_model()\n"
   ]
  },
  {
   "cell_type": "code",
   "execution_count": 5,
   "metadata": {},
   "outputs": [
    {
     "name": "stdout",
     "output_type": "stream",
     "text": [
      "Best: -0.010838 using {'batch_size': 64, 'dropout_rate': 0.0, 'epochs': 128, 'neurons': 64}\n",
      "-0.010838 (0.002485) with: {'batch_size': 64, 'dropout_rate': 0.0, 'epochs': 128, 'neurons': 64}\n",
      "-0.011371 (0.002415) with: {'batch_size': 64, 'dropout_rate': 0.0, 'epochs': 128, 'neurons': 128}\n",
      "-0.011640 (0.003055) with: {'batch_size': 64, 'dropout_rate': 0.0, 'epochs': 128, 'neurons': 256}\n",
      "-0.012413 (0.002882) with: {'batch_size': 64, 'dropout_rate': 0.0, 'epochs': 256, 'neurons': 64}\n",
      "-0.014066 (0.003171) with: {'batch_size': 64, 'dropout_rate': 0.0, 'epochs': 256, 'neurons': 128}\n",
      "-0.019802 (0.004622) with: {'batch_size': 64, 'dropout_rate': 0.0, 'epochs': 256, 'neurons': 256}\n",
      "-0.012621 (0.003996) with: {'batch_size': 64, 'dropout_rate': 0.1, 'epochs': 128, 'neurons': 64}\n",
      "-0.011841 (0.002734) with: {'batch_size': 64, 'dropout_rate': 0.1, 'epochs': 128, 'neurons': 128}\n",
      "-0.013224 (0.003364) with: {'batch_size': 64, 'dropout_rate': 0.1, 'epochs': 128, 'neurons': 256}\n",
      "-0.012959 (0.002672) with: {'batch_size': 64, 'dropout_rate': 0.1, 'epochs': 256, 'neurons': 64}\n",
      "-0.013405 (0.004355) with: {'batch_size': 64, 'dropout_rate': 0.1, 'epochs': 256, 'neurons': 128}\n",
      "-0.015907 (0.005121) with: {'batch_size': 64, 'dropout_rate': 0.1, 'epochs': 256, 'neurons': 256}\n",
      "-0.015742 (0.003556) with: {'batch_size': 64, 'dropout_rate': 0.2, 'epochs': 128, 'neurons': 64}\n",
      "-0.019009 (0.005758) with: {'batch_size': 64, 'dropout_rate': 0.2, 'epochs': 128, 'neurons': 128}\n",
      "-0.018588 (0.001203) with: {'batch_size': 64, 'dropout_rate': 0.2, 'epochs': 128, 'neurons': 256}\n",
      "-0.017522 (0.002083) with: {'batch_size': 64, 'dropout_rate': 0.2, 'epochs': 256, 'neurons': 64}\n",
      "-0.017095 (0.004252) with: {'batch_size': 64, 'dropout_rate': 0.2, 'epochs': 256, 'neurons': 128}\n",
      "-0.017310 (0.005731) with: {'batch_size': 64, 'dropout_rate': 0.2, 'epochs': 256, 'neurons': 256}\n"
     ]
    }
   ],
   "source": [
    "print(\"Best: %f using %s\" % (results.best_score_, results.best_params_))\n",
    "means = results.cv_results_['mean_test_score']\n",
    "stds = results.cv_results_['std_test_score']\n",
    "params = results.cv_results_['params']\n",
    "for mean, stdev, param in zip(means, stds, params):\n",
    "\tprint(\"%f (%f) with: %r\" % (mean, stdev, param))"
   ]
  },
  {
   "cell_type": "code",
   "execution_count": 7,
   "metadata": {},
   "outputs": [
    {
     "name": "stdout",
     "output_type": "stream",
     "text": [
      "Train on 764 samples, validate on 191 samples\n",
      "Epoch 1/128\n",
      " - 0s - loss: 0.1778 - val_loss: 0.0305\n",
      "Epoch 2/128\n",
      " - 0s - loss: 0.0312 - val_loss: 0.0168\n",
      "Epoch 3/128\n",
      " - 0s - loss: 0.0169 - val_loss: 0.0174\n",
      "Epoch 4/128\n",
      " - 0s - loss: 0.0130 - val_loss: 0.0118\n",
      "Epoch 5/128\n",
      " - 0s - loss: 0.0122 - val_loss: 0.0146\n",
      "Epoch 6/128\n",
      " - 0s - loss: 0.0119 - val_loss: 0.0126\n",
      "Epoch 7/128\n",
      " - 0s - loss: 0.0117 - val_loss: 0.0131\n",
      "Epoch 8/128\n",
      " - 0s - loss: 0.0115 - val_loss: 0.0127\n",
      "Epoch 9/128\n",
      " - 0s - loss: 0.0114 - val_loss: 0.0128\n",
      "Epoch 10/128\n",
      " - 0s - loss: 0.0112 - val_loss: 0.0132\n",
      "Epoch 11/128\n",
      " - 0s - loss: 0.0111 - val_loss: 0.0118\n",
      "Epoch 12/128\n",
      " - 0s - loss: 0.0110 - val_loss: 0.0129\n",
      "Epoch 13/128\n",
      " - 0s - loss: 0.0108 - val_loss: 0.0117\n",
      "Epoch 14/128\n",
      " - 0s - loss: 0.0109 - val_loss: 0.0123\n",
      "Epoch 15/128\n",
      " - 0s - loss: 0.0108 - val_loss: 0.0128\n",
      "Epoch 16/128\n",
      " - 0s - loss: 0.0106 - val_loss: 0.0116\n",
      "Epoch 17/128\n",
      " - 0s - loss: 0.0105 - val_loss: 0.0122\n",
      "Epoch 18/128\n",
      " - 0s - loss: 0.0104 - val_loss: 0.0116\n",
      "Epoch 19/128\n",
      " - 0s - loss: 0.0104 - val_loss: 0.0120\n",
      "Epoch 20/128\n",
      " - 0s - loss: 0.0103 - val_loss: 0.0108\n",
      "Epoch 21/128\n",
      " - 0s - loss: 0.0103 - val_loss: 0.0119\n",
      "Epoch 22/128\n",
      " - 0s - loss: 0.0103 - val_loss: 0.0127\n",
      "Epoch 23/128\n",
      " - 0s - loss: 0.0102 - val_loss: 0.0103\n",
      "Epoch 24/128\n",
      " - 0s - loss: 0.0101 - val_loss: 0.0107\n",
      "Epoch 25/128\n",
      " - 0s - loss: 0.0100 - val_loss: 0.0108\n",
      "Epoch 26/128\n",
      " - 0s - loss: 0.0100 - val_loss: 0.0109\n",
      "Epoch 27/128\n",
      " - 0s - loss: 0.0100 - val_loss: 0.0096\n",
      "Epoch 28/128\n",
      " - 0s - loss: 0.0103 - val_loss: 0.0114\n",
      "Epoch 29/128\n",
      " - 0s - loss: 0.0102 - val_loss: 0.0120\n",
      "Epoch 30/128\n",
      " - 0s - loss: 0.0099 - val_loss: 0.0116\n",
      "Epoch 31/128\n",
      " - 0s - loss: 0.0099 - val_loss: 0.0096\n",
      "Epoch 32/128\n",
      " - 0s - loss: 0.0098 - val_loss: 0.0104\n",
      "Epoch 33/128\n",
      " - 0s - loss: 0.0097 - val_loss: 0.0097\n",
      "Epoch 34/128\n",
      " - 0s - loss: 0.0097 - val_loss: 0.0105\n",
      "Epoch 35/128\n",
      " - 0s - loss: 0.0097 - val_loss: 0.0103\n",
      "Epoch 36/128\n",
      " - 0s - loss: 0.0097 - val_loss: 0.0111\n",
      "Epoch 37/128\n",
      " - 0s - loss: 0.0097 - val_loss: 0.0126\n",
      "Epoch 38/128\n",
      " - 0s - loss: 0.0100 - val_loss: 0.0112\n",
      "Epoch 39/128\n",
      " - 0s - loss: 0.0096 - val_loss: 0.0099\n",
      "Epoch 40/128\n",
      " - 0s - loss: 0.0095 - val_loss: 0.0099\n",
      "Epoch 41/128\n",
      " - 0s - loss: 0.0095 - val_loss: 0.0119\n",
      "Epoch 42/128\n",
      " - 0s - loss: 0.0098 - val_loss: 0.0112\n",
      "Epoch 43/128\n",
      " - 0s - loss: 0.0095 - val_loss: 0.0094\n",
      "Epoch 44/128\n",
      " - 0s - loss: 0.0095 - val_loss: 0.0096\n",
      "Epoch 45/128\n",
      " - 0s - loss: 0.0096 - val_loss: 0.0098\n",
      "Epoch 46/128\n",
      " - 0s - loss: 0.0094 - val_loss: 0.0108\n",
      "Epoch 47/128\n",
      " - 0s - loss: 0.0094 - val_loss: 0.0102\n",
      "Epoch 48/128\n",
      " - 0s - loss: 0.0093 - val_loss: 0.0100\n",
      "Epoch 49/128\n",
      " - 0s - loss: 0.0095 - val_loss: 0.0098\n",
      "Epoch 50/128\n",
      " - 0s - loss: 0.0095 - val_loss: 0.0098\n",
      "Epoch 51/128\n",
      " - 0s - loss: 0.0093 - val_loss: 0.0105\n",
      "Epoch 52/128\n",
      " - 0s - loss: 0.0096 - val_loss: 0.0104\n",
      "Epoch 53/128\n",
      " - 0s - loss: 0.0096 - val_loss: 0.0093\n",
      "Epoch 54/128\n",
      " - 0s - loss: 0.0096 - val_loss: 0.0096\n",
      "Epoch 55/128\n",
      " - 0s - loss: 0.0094 - val_loss: 0.0093\n",
      "Epoch 56/128\n",
      " - 0s - loss: 0.0094 - val_loss: 0.0094\n",
      "Epoch 57/128\n",
      " - 0s - loss: 0.0095 - val_loss: 0.0105\n",
      "Epoch 58/128\n",
      " - 0s - loss: 0.0093 - val_loss: 0.0100\n",
      "Epoch 59/128\n",
      " - 0s - loss: 0.0093 - val_loss: 0.0101\n",
      "Epoch 60/128\n",
      " - 0s - loss: 0.0093 - val_loss: 0.0095\n",
      "Epoch 61/128\n",
      " - 0s - loss: 0.0094 - val_loss: 0.0099\n",
      "Epoch 62/128\n",
      " - 0s - loss: 0.0091 - val_loss: 0.0096\n",
      "Epoch 63/128\n",
      " - 0s - loss: 0.0091 - val_loss: 0.0107\n",
      "Epoch 64/128\n",
      " - 0s - loss: 0.0092 - val_loss: 0.0105\n",
      "Epoch 65/128\n",
      " - 0s - loss: 0.0090 - val_loss: 0.0114\n",
      "Epoch 66/128\n",
      " - 0s - loss: 0.0090 - val_loss: 0.0102\n",
      "Epoch 67/128\n",
      " - 0s - loss: 0.0090 - val_loss: 0.0098\n",
      "Epoch 68/128\n",
      " - 0s - loss: 0.0093 - val_loss: 0.0099\n",
      "Epoch 69/128\n",
      " - 0s - loss: 0.0089 - val_loss: 0.0109\n",
      "Epoch 70/128\n",
      " - 0s - loss: 0.0089 - val_loss: 0.0101\n",
      "Epoch 71/128\n",
      " - 0s - loss: 0.0089 - val_loss: 0.0108\n",
      "Epoch 72/128\n",
      " - 0s - loss: 0.0090 - val_loss: 0.0105\n",
      "Epoch 73/128\n",
      " - 0s - loss: 0.0089 - val_loss: 0.0105\n",
      "Epoch 74/128\n",
      " - 0s - loss: 0.0090 - val_loss: 0.0105\n",
      "Epoch 75/128\n",
      " - 0s - loss: 0.0090 - val_loss: 0.0112\n",
      "Epoch 76/128\n",
      " - 0s - loss: 0.0089 - val_loss: 0.0115\n",
      "Epoch 77/128\n",
      " - 0s - loss: 0.0093 - val_loss: 0.0101\n",
      "Epoch 78/128\n",
      " - 0s - loss: 0.0093 - val_loss: 0.0102\n",
      "Epoch 79/128\n",
      " - 0s - loss: 0.0093 - val_loss: 0.0102\n",
      "Epoch 80/128\n",
      " - 0s - loss: 0.0089 - val_loss: 0.0105\n",
      "Epoch 81/128\n",
      " - 0s - loss: 0.0088 - val_loss: 0.0111\n",
      "Epoch 82/128\n",
      " - 0s - loss: 0.0088 - val_loss: 0.0119\n",
      "Epoch 83/128\n",
      " - 0s - loss: 0.0089 - val_loss: 0.0128\n",
      "Epoch 84/128\n",
      " - 0s - loss: 0.0088 - val_loss: 0.0109\n",
      "Epoch 85/128\n",
      " - 0s - loss: 0.0088 - val_loss: 0.0108\n",
      "Epoch 86/128\n",
      " - 0s - loss: 0.0088 - val_loss: 0.0106\n",
      "Epoch 87/128\n",
      " - 0s - loss: 0.0088 - val_loss: 0.0109\n",
      "Epoch 88/128\n",
      " - 0s - loss: 0.0088 - val_loss: 0.0115\n",
      "Epoch 89/128\n",
      " - 0s - loss: 0.0089 - val_loss: 0.0119\n",
      "Epoch 90/128\n",
      " - 0s - loss: 0.0089 - val_loss: 0.0129\n",
      "Epoch 91/128\n",
      " - 0s - loss: 0.0089 - val_loss: 0.0113\n",
      "Epoch 92/128\n",
      " - 0s - loss: 0.0087 - val_loss: 0.0108\n",
      "Epoch 93/128\n",
      " - 0s - loss: 0.0088 - val_loss: 0.0110\n",
      "Epoch 94/128\n",
      " - 0s - loss: 0.0089 - val_loss: 0.0110\n",
      "Epoch 95/128\n",
      " - 0s - loss: 0.0094 - val_loss: 0.0132\n",
      "Epoch 96/128\n",
      " - 0s - loss: 0.0088 - val_loss: 0.0116\n",
      "Epoch 97/128\n",
      " - 0s - loss: 0.0089 - val_loss: 0.0123\n",
      "Epoch 98/128\n",
      " - 0s - loss: 0.0087 - val_loss: 0.0113\n",
      "Epoch 99/128\n",
      " - 0s - loss: 0.0086 - val_loss: 0.0114\n",
      "Epoch 100/128\n",
      " - 0s - loss: 0.0087 - val_loss: 0.0113\n",
      "Epoch 101/128\n",
      " - 0s - loss: 0.0086 - val_loss: 0.0111\n",
      "Epoch 102/128\n",
      " - 0s - loss: 0.0085 - val_loss: 0.0110\n",
      "Epoch 103/128\n",
      " - 0s - loss: 0.0089 - val_loss: 0.0113\n",
      "Epoch 104/128\n",
      " - 0s - loss: 0.0087 - val_loss: 0.0114\n",
      "Epoch 105/128\n",
      " - 0s - loss: 0.0087 - val_loss: 0.0111\n",
      "Epoch 106/128\n",
      " - 0s - loss: 0.0086 - val_loss: 0.0112\n",
      "Epoch 107/128\n",
      " - 0s - loss: 0.0086 - val_loss: 0.0112\n",
      "Epoch 108/128\n",
      " - 0s - loss: 0.0087 - val_loss: 0.0118\n",
      "Epoch 109/128\n",
      " - 0s - loss: 0.0085 - val_loss: 0.0118\n",
      "Epoch 110/128\n",
      " - 0s - loss: 0.0085 - val_loss: 0.0114\n",
      "Epoch 111/128\n",
      " - 0s - loss: 0.0085 - val_loss: 0.0118\n",
      "Epoch 112/128\n",
      " - 0s - loss: 0.0085 - val_loss: 0.0115\n",
      "Epoch 113/128\n",
      " - 0s - loss: 0.0087 - val_loss: 0.0120\n",
      "Epoch 114/128\n",
      " - 0s - loss: 0.0085 - val_loss: 0.0119\n",
      "Epoch 115/128\n",
      " - 0s - loss: 0.0085 - val_loss: 0.0129\n",
      "Epoch 116/128\n",
      " - 0s - loss: 0.0089 - val_loss: 0.0117\n",
      "Epoch 117/128\n",
      " - 0s - loss: 0.0089 - val_loss: 0.0115\n",
      "Epoch 118/128\n",
      " - 0s - loss: 0.0091 - val_loss: 0.0116\n",
      "Epoch 119/128\n",
      " - 0s - loss: 0.0085 - val_loss: 0.0115\n",
      "Epoch 120/128\n",
      " - 0s - loss: 0.0085 - val_loss: 0.0117\n",
      "Epoch 121/128\n",
      " - 0s - loss: 0.0084 - val_loss: 0.0115\n",
      "Epoch 122/128\n",
      " - 0s - loss: 0.0084 - val_loss: 0.0118\n",
      "Epoch 123/128\n",
      " - 0s - loss: 0.0084 - val_loss: 0.0116\n",
      "Epoch 124/128\n",
      " - 0s - loss: 0.0083 - val_loss: 0.0129\n",
      "Epoch 125/128\n",
      " - 0s - loss: 0.0086 - val_loss: 0.0117\n",
      "Epoch 126/128\n",
      " - 0s - loss: 0.0083 - val_loss: 0.0129\n",
      "Epoch 127/128\n",
      " - 0s - loss: 0.0083 - val_loss: 0.0143\n",
      "Epoch 128/128\n",
      " - 0s - loss: 0.0088 - val_loss: 0.0130\n"
     ]
    }
   ],
   "source": [
    "# design neural net\n",
    "from keras.models import Sequential\n",
    "from keras.layers import Dense\n",
    "from keras.layers import LSTM\n",
    "from keras.layers import Dropout\n",
    "model = Sequential()\n",
    "model.add(LSTM(128, input_shape=(5, 19), dropout=0.0))\n",
    "model.add(Dense(1))\n",
    "model.compile(loss='mse', optimizer='adam')\n",
    "\n",
    "# fit neural net\n",
    "history = model.fit(train_X, train_y, epochs=128, batch_size = 64, validation_split=0.2, verbose = 2, shuffle=True)"
   ]
  },
  {
   "cell_type": "code",
   "execution_count": 17,
   "metadata": {},
   "outputs": [
    {
     "data": {
      "image/png": "[encoded data removed]",
      "text/plain": [
       "<matplotlib.figure.Figure at 0x1a2e1c59b0>"
      ]
     },
     "metadata": {},
     "output_type": "display_data"
    }
   ],
   "source": [
    "pyplot.plot(history.history['loss'], label='train')\n",
    "pyplot.plot(history.history['val_loss'], label='validation')\n",
    "pyplot.legend()\n",
    "pyplot.show()"
   ]
  },
  {
   "cell_type": "markdown",
   "metadata": {},
   "source": [
    "# Calculate and compare model accuracy"
   ]
  },
  {
   "cell_type": "code",
   "execution_count": 9,
   "metadata": {
    "collapsed": true
   },
   "outputs": [],
   "source": [
    "MAE = lambda p,o: sum(abs(p - o)) / len(o)\n",
    "RMSE = lambda p,o: math.sqrt(sum((p - o) ** 2) / len(o))"
   ]
  },
  {
   "cell_type": "code",
   "execution_count": 10,
   "metadata": {
    "collapsed": true
   },
   "outputs": [],
   "source": [
    "originals = df.iloc[:,92].values\n",
    "predictions = df.iloc[:,95].values"
   ]
  },
  {
   "cell_type": "markdown",
   "metadata": {},
   "source": [
    "## Baseline accuracy\n",
    "\n",
    "Baseline accuracy is calculated by predicting mood of t+1 with mood of time t. Both MAE and RMSE are showed."
   ]
  },
  {
   "cell_type": "code",
   "execution_count": 11,
   "metadata": {},
   "outputs": [
    {
     "name": "stdout",
     "output_type": "stream",
     "text": [
      "MAE: 0.550179943390397\n",
      "RMSE: 0.7529954803412126\n"
     ]
    }
   ],
   "source": [
    "print('MAE: {}'.format(MAE(predictions, originals)))\n",
    "print('RMSE: {}'.format(RMSE(predictions, originals)))"
   ]
  },
  {
   "cell_type": "markdown",
   "metadata": {},
   "source": [
    "Check how to statistically define a confidence interval for RMSE baseline value. Two approaches can be considered.\n",
    "\n",
    "- Use assumptions that predictions - originals are normal distributed\n",
    "\n",
    "\\begin{equation}\n",
    "H← ​​​60 ​+​ \\frac{​​30(B−R)​​}{Vmax−Vmin}  ​​, if V​max​​ = G\n",
    "\\end{equation}\n",
    "\n",
    "- Use bootstrap to estimate confidence interval of RMSE"
   ]
  },
  {
   "cell_type": "code",
   "execution_count": 12,
   "metadata": {},
   "outputs": [
    {
     "data": {
      "text/plain": [
       "0.0075314010565107692"
      ]
     },
     "execution_count": 12,
     "metadata": {},
     "output_type": "execute_result"
    }
   ],
   "source": [
    "x = (predictions - originals)\n",
    "np.mean(x)"
   ]
  },
  {
   "cell_type": "code",
   "execution_count": 13,
   "metadata": {},
   "outputs": [
    {
     "data": {
      "image/png": "[encoded data removed]",
      "text/plain": [
       "<matplotlib.figure.Figure at 0x11889f4a8>"
      ]
     },
     "metadata": {},
     "output_type": "display_data"
    }
   ],
   "source": [
    "import scipy.stats as stats\n",
    "stats.probplot(x, dist=\"norm\", plot=pyplot)\n",
    "pyplot.show()"
   ]
  },
  {
   "cell_type": "code",
   "execution_count": 14,
   "metadata": {},
   "outputs": [
    {
     "data": {
      "text/plain": [
       "(array([   2.,    3.,   14.,   89.,  377.,  509.,  140.,   40.,    5.,    2.]),\n",
       " array([-4.  , -3.23, -2.46, -1.69, -0.92, -0.15,  0.62,  1.39,  2.16,\n",
       "         2.93,  3.7 ]),\n",
       " <a list of 10 Patch objects>)"
      ]
     },
     "execution_count": 14,
     "metadata": {},
     "output_type": "execute_result"
    },
    {
     "data": {
      "image/png": "[encoded data removed]",
      "text/plain": [
       "<matplotlib.figure.Figure at 0x1a2e6feda0>"
      ]
     },
     "metadata": {},
     "output_type": "display_data"
    }
   ],
   "source": [
    "pyplot.hist(x)"
   ]
  },
  {
   "cell_type": "markdown",
   "metadata": {},
   "source": [
    "## Model accuracy\n",
    "\n",
    "Prediction of values with model for test set and then scale values back."
   ]
  },
  {
   "cell_type": "code",
   "execution_count": 15,
   "metadata": {
    "collapsed": true
   },
   "outputs": [],
   "source": [
    "#make predictions\n",
    "trainPredict = model.predict(train_X)\n",
    "testPredict = model.predict(test_X)\n",
    "\n",
    "inverse = np.concatenate((test_X.reshape((test_X.shape[0], 95)), testPredict), axis=1)\n",
    "inverse2 = scaler.inverse_transform(inverse)\n",
    "testPrediction = inverse2[:,-1]\n",
    "\n",
    "inverse = np.concatenate((test_X.reshape((test_X.shape[0], 95)), test_y.reshape((len(test_y), 1))), axis=1)\n",
    "inverse2 = scaler.inverse_transform(inverse)\n",
    "testY = inverse2[:,-1]\n",
    "\n",
    "#invert predictions\n",
    "#trainPredict = scaler.inverse_transform(trainPredict)\n",
    "#trainY = scaler.inverse_transform(train_y)\n",
    "#testPredict = scaler.inverse_transform(testPredict)\n",
    "#testY = scaler.inverse_transform(test_y)\n",
    "original = test_y[np.newaxis].T"
   ]
  },
  {
   "cell_type": "code",
   "execution_count": 16,
   "metadata": {},
   "outputs": [
    {
     "name": "stdout",
     "output_type": "stream",
     "text": [
      "MAE: 0.4864170495739381\n",
      "RMSE: 0.6574642485677084\n"
     ]
    }
   ],
   "source": [
    "print('MAE: {}'.format(MAE(testPrediction, testY)))\n",
    "print('RMSE: {}'.format(RMSE(testPrediction, testY)))"
   ]
  },
  {
   "cell_type": "code",
   "execution_count": null,
   "metadata": {
    "collapsed": true
   },
   "outputs": [],
   "source": []
  }
 ],
 "metadata": {
  "kernelspec": {
   "display_name": "Python 3",
   "language": "python",
   "name": "python3"
  },
  "language_info": {
   "codemirror_mode": {
    "name": "ipython",
    "version": 3
   },
   "file_extension": ".py",
   "mimetype": "text/x-python",
   "name": "python",
   "nbconvert_exporter": "python",
   "pygments_lexer": "ipython3",
   "version": "3.6.3"
  }
 },
 "nbformat": 4,
 "nbformat_minor": 2
}
